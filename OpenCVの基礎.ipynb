{
 "cells": [
  {
   "cell_type": "code",
   "execution_count": 4,
   "metadata": {},
   "outputs": [
    {
     "data": {
      "text/plain": [
       "-1"
      ]
     },
     "execution_count": 4,
     "metadata": {},
     "output_type": "execute_result"
    }
   ],
   "source": [
    "import numpy as np\n",
    "import cv2\n",
    "\n",
    "path = r\"sample.jpg\"\n",
    "\n",
    "img = cv2.imread(path)\n",
    "\n",
    "##画像サイズが大きいため、shape※サイズを6で割って小数以下切り捨て表示\n",
    "img = cv2.resize(img, (img.shape[1] // 6, img.shape[0] // 6))\n",
    "cv2.imshow(\"sample\", img)\n",
    "cv2.waitKey()"
   ]
  },
  {
   "cell_type": "code",
   "execution_count": 3,
   "metadata": {},
   "outputs": [
    {
     "data": {
      "text/plain": [
       "-1"
      ]
     },
     "execution_count": 3,
     "metadata": {},
     "output_type": "execute_result"
    }
   ],
   "source": [
    "#画像を作ってみる\n",
    "import numpy as np\n",
    "import cv2\n",
    "\n",
    "img_size = (512,512)\n",
    "#RGBの色合いを決定する、今回の指定は[B, G, R]となる\n",
    "\n",
    "my_img = np.array([[[0,0,255] for _ in range(img_size[1])] for _ in range(img_size[1])],dtype=\"uint8\")\n",
    "\n",
    "cv2.imshow(\"sample\", my_img)\n",
    "\n",
    "cv2.imwrite(\"my_red_img.jpg\", my_img)\n",
    "cv2.waitKey()"
   ]
  },
  {
   "cell_type": "code",
   "execution_count": 4,
   "metadata": {},
   "outputs": [
    {
     "data": {
      "text/plain": [
       "-1"
      ]
     },
     "execution_count": 4,
     "metadata": {},
     "output_type": "execute_result"
    }
   ],
   "source": [
    "import numpy as np\n",
    "import cv2\n",
    "\n",
    "img = cv2.imread(r\"sample.jpg\")\n",
    "size = img.shape\n",
    "my_img = img[: size[0] // 2, : size[1] // 3]\n",
    "my_img = cv2.resize(my_img, (my_img.shape[1] // 2, my_img.shape[0] // 2))\n",
    "cv2.imshow(\"sample\",my_img)\n",
    "cv2.waitKey()"
   ]
  },
  {
   "cell_type": "code",
   "execution_count": 1,
   "metadata": {},
   "outputs": [
    {
     "data": {
      "text/plain": [
       "-1"
      ]
     },
     "execution_count": 1,
     "metadata": {},
     "output_type": "execute_result"
    }
   ],
   "source": [
    "#回転・反転\n",
    "import numpy as np\n",
    "import cv2\n",
    "\n",
    "img = cv2.imread(\"sample.jpg\")\n",
    "\"\"\"\n",
    "回転に必要な行列を作成\n",
    "第一引数は回転中心\n",
    "第二引数は回転角度\n",
    "第三引数は倍率\n",
    "\"\"\"\n",
    "mat = cv2.getRotationMatrix2D(tuple(np.array(img.shape[:2])/2), 180, 1.0)\n",
    "my_img = cv2.warpAffine(img, mat, img.shape[:2])\n",
    "my_img = cv2.resize(my_img, (my_img.shape[1] // 4, my_img.shape[0] // 4))\n",
    "\n",
    "cv2.imshow(\"sample\", my_img)\n",
    "cv2.waitKey()"
   ]
  },
  {
   "cell_type": "code",
   "execution_count": 3,
   "metadata": {},
   "outputs": [
    {
     "data": {
      "text/plain": [
       "-1"
      ]
     },
     "execution_count": 3,
     "metadata": {},
     "output_type": "execute_result"
    }
   ],
   "source": [
    "#色調反転・変換\n",
    "import numpy as np\n",
    "import cv2\n",
    "\n",
    "img = cv2.imread(\"sample.jpg\")\n",
    "\n",
    "my_img = cv2.cvtColor(img, cv2.COLOR_RGB2LAB)\n",
    "my_img = cv2.resize(my_img, (my_img.shape[1] // 6, my_img.shape[0] // 6))\n",
    "cv2.imshow(\"sample\", my_img)\n",
    "cv2.waitKey()"
   ]
  },
  {
   "cell_type": "code",
   "execution_count": null,
   "metadata": {},
   "outputs": [],
   "source": []
  }
 ],
 "metadata": {
  "kernelspec": {
   "display_name": "Python 3",
   "language": "python",
   "name": "python3"
  },
  "language_info": {
   "codemirror_mode": {
    "name": "ipython",
    "version": 3
   },
   "file_extension": ".py",
   "mimetype": "text/x-python",
   "name": "python",
   "nbconvert_exporter": "python",
   "pygments_lexer": "ipython3",
   "version": "3.7.4"
  }
 },
 "nbformat": 4,
 "nbformat_minor": 2
}
