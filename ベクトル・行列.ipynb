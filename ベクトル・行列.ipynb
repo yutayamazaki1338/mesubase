{
 "cells": [
  {
   "cell_type": "markdown",
   "metadata": {},
   "source": [
    "## Numpyによる配列計算\n",
    "- ベクトル、行列、テンソルについて"
   ]
  },
  {
   "cell_type": "markdown",
   "metadata": {},
   "source": [
    "### ベクトルの実装\n",
    "- Numpyの一次配列を用いて、リストで表す。"
   ]
  },
  {
   "cell_type": "code",
   "execution_count": 1,
   "metadata": {},
   "outputs": [
    {
     "name": "stdout",
     "output_type": "stream",
     "text": [
      "[1 2 3]\n"
     ]
    }
   ],
   "source": [
    "import numpy as np\n",
    "\n",
    "a = np.array([1,2,3])\n",
    "print(a)"
   ]
  },
  {
   "cell_type": "markdown",
   "metadata": {},
   "source": [
    "### 行列の実装\n",
    "- Numpyの二次元配置を用いる。"
   ]
  },
  {
   "cell_type": "code",
   "execution_count": 4,
   "metadata": {},
   "outputs": [
    {
     "name": "stdout",
     "output_type": "stream",
     "text": [
      "[[1 2 3]\n",
      " [4 5 6]]\n"
     ]
    }
   ],
   "source": [
    "import numpy as np\n",
    "\n",
    "b = np.array([[1,2,3],\n",
    "            [4,5,6]])\n",
    "\n",
    "print(b)"
   ]
  },
  {
   "cell_type": "markdown",
   "metadata": {},
   "source": [
    "### テンソルの実装\n",
    "- Numpyの多次元配列を用いると、3階のテンソルを表現する。"
   ]
  },
  {
   "cell_type": "code",
   "execution_count": 7,
   "metadata": {},
   "outputs": [
    {
     "name": "stdout",
     "output_type": "stream",
     "text": [
      "[[[0 1 2 3]\n",
      "  [2 3 4 5]\n",
      "  [3 4 5 6]]\n",
      "\n",
      " [[1 2 3 4]\n",
      "  [3 4 5 6]\n",
      "  [5 6 7 8]]]\n"
     ]
    }
   ],
   "source": [
    "import numpy as np\n",
    "a = np.array([[[0,1,2,3],\n",
    "              [2,3,4,5],\n",
    "              [3,4,5,6]],\n",
    "              \n",
    "             [[1,2,3,4],\n",
    "             [3,4,5,6],\n",
    "             [5,6,7,8]]])\n",
    "print(a)"
   ]
  },
  {
   "cell_type": "markdown",
   "metadata": {},
   "source": [
    "### ベクトルの積の実装\n",
    "- 各要素の「積の総和」となるため、sum関数の和機能でも実装ができるがdot()というのも存在している。"
   ]
  },
  {
   "cell_type": "code",
   "execution_count": 8,
   "metadata": {},
   "outputs": [
    {
     "name": "stdout",
     "output_type": "stream",
     "text": [
      "---dot()関数---\n",
      "11\n",
      "---積の総和---\n",
      "11\n"
     ]
    }
   ],
   "source": [
    "import numpy as pd\n",
    "\n",
    "a = np.array([1,2,3])\n",
    "b = np.array([3,1,2])\n",
    "\n",
    "print(\"---dot()関数---\")\n",
    "print(np.dot(a,b))\n",
    "\n",
    "print(\"---積の総和---\")\n",
    "print(np.sum(a*b))"
   ]
  },
  {
   "cell_type": "markdown",
   "metadata": {},
   "source": [
    "### ノルムの実装\n",
    "- L1ノルムとL2ノルムがある。\n",
    "- L1ノルムは絶対値の総和\n",
    "- L2ノルムは二乗総和のルート"
   ]
  },
  {
   "cell_type": "code",
   "execution_count": 1,
   "metadata": {},
   "outputs": [
    {
     "name": "stdout",
     "output_type": "stream",
     "text": [
      "---L2ノルム---\n",
      "2.0\n",
      "---L1ノルム---\n",
      "4.0\n"
     ]
    }
   ],
   "source": [
    "import numpy as np\n",
    "\n",
    "a = np.array([1,1,-1,-1])\n",
    "\n",
    "print(\"---L2ノルム---\")\n",
    "print(np.linalg.norm(a))\n",
    "\n",
    "print(\"---L1ノルム---\")\n",
    "print(np.linalg.norm(a,1))"
   ]
  },
  {
   "cell_type": "markdown",
   "metadata": {},
   "source": [
    "### 行列式の計算\n",
    "- dot()関数を用いて実装"
   ]
  },
  {
   "cell_type": "code",
   "execution_count": 3,
   "metadata": {},
   "outputs": [
    {
     "name": "stdout",
     "output_type": "stream",
     "text": [
      "[[ 6  3]\n",
      " [12  6]]\n"
     ]
    }
   ],
   "source": [
    "import numpy as np\n",
    "\n",
    "a = np.array([[0,1,2],\n",
    "             [1,2,3]])\n",
    "\n",
    "b = np.array([[2,1],\n",
    "             [2,1],\n",
    "             [2,1]])\n",
    "\n",
    "print(np.dot(a,b))"
   ]
  },
  {
   "cell_type": "code",
   "execution_count": 6,
   "metadata": {},
   "outputs": [
    {
     "name": "stdout",
     "output_type": "stream",
     "text": [
      "[[0 1]\n",
      " [1 2]\n",
      " [2 3]]\n"
     ]
    }
   ],
   "source": [
    "#転置行列\n",
    "import numpy as np\n",
    "\n",
    "a = np.array([[0,1,2],\n",
    "             [1,2,3]])\n",
    "print(a.T)"
   ]
  },
  {
   "cell_type": "code",
   "execution_count": 7,
   "metadata": {},
   "outputs": [
    {
     "name": "stdout",
     "output_type": "stream",
     "text": [
      "[[ 5  8]\n",
      " [ 8 14]]\n"
     ]
    }
   ],
   "source": [
    "import numpy as np\n",
    "\n",
    "a = np.array([[0,1,2],\n",
    "             [1,2,3]])\n",
    "\n",
    "b = np.array([[0,1,2],\n",
    "             [1,2,3]])\n",
    "\n",
    "print(np.dot(a,b.T))"
   ]
  },
  {
   "cell_type": "markdown",
   "metadata": {},
   "source": [
    "### 行列式の計算\n",
    "- linalg.det()関数で実装"
   ]
  },
  {
   "cell_type": "code",
   "execution_count": 8,
   "metadata": {},
   "outputs": [
    {
     "name": "stdout",
     "output_type": "stream",
     "text": [
      "-2.0000000000000004\n",
      "0.0\n"
     ]
    }
   ],
   "source": [
    "import numpy as np\n",
    "\n",
    "a = np.array([[1,2],\n",
    "             [3,4]])\n",
    "\n",
    "b = np.array([[1,2],\n",
    "             [0,0]])\n",
    "\n",
    "print(np.linalg.det(a))\n",
    "print(np.linalg.det(b))"
   ]
  },
  {
   "cell_type": "markdown",
   "metadata": {},
   "source": [
    "### 逆行列の実装\n",
    "- 行列式の実装ができたため、求めることができる。\n",
    "- invは反対の意\n",
    "- 注意としては、逆行列が存在しない場合エラーが起きる。"
   ]
  },
  {
   "cell_type": "code",
   "execution_count": 9,
   "metadata": {},
   "outputs": [
    {
     "name": "stdout",
     "output_type": "stream",
     "text": [
      "[[-2.   1. ]\n",
      " [ 1.5 -0.5]]\n"
     ]
    }
   ],
   "source": [
    "import numpy as np\n",
    "\n",
    "a = np.array([[1,2],\n",
    "              [3,4]])\n",
    "print(np.linalg.inv(a))"
   ]
  },
  {
   "cell_type": "markdown",
   "metadata": {},
   "source": [
    "## ベクトルの描画と線形変換\n",
    "- ベクトルの描写には特殊な構文が必要となる。\n",
    "- quiver関数で定義が必要。\n",
    "- 以下のベクトルを定義する\n",
    "$$\\vec{a} = \n",
    "\\begin{pmatrix}\n",
    "2  \\\\\n",
    "3  \\\\\n",
    "\\end{pmatrix} $$\n"
   ]
  },
  {
   "cell_type": "code",
   "execution_count": 12,
   "metadata": {
    "scrolled": true
   },
   "outputs": [
    {
     "data": {
      "image/png": "[encoded data removed]",
      "text/plain": [
       "<Figure size 432x288 with 1 Axes>"
      ]
     },
     "metadata": {
      "needs_background": "light"
     },
     "output_type": "display_data"
    }
   ],
   "source": [
    "%matplotlib inline\n",
    "\n",
    "import numpy as np\n",
    "import matplotlib.pyplot as plt\n",
    "\n",
    "#矢印を描画\n",
    "def arrow(start,size,color):\n",
    "    plt.quiver(start[0],start[1],size[0],size[1],\n",
    "              angles=\"xy\",scale_units=\"xy\",scale=1,color=color)\n",
    "    \n",
    "#矢印の始点\n",
    "s = np.array([0,0])#原点\n",
    "\n",
    "#ベクトル\n",
    "a = np.array([2,3])\n",
    "\n",
    "arrow(s,a,color=\"black\")\n",
    "\n",
    "#グラフ表示\n",
    "plt.xlim([-3,3])\n",
    "plt.ylim([-3,3])#表示範囲\n",
    "plt.xlabel(\"x\",size=14)\n",
    "plt.ylabel(\"y\",size=14)\n",
    "plt.grid()\n",
    "\n",
    "\n",
    "plt.show()"
   ]
  },
  {
   "cell_type": "markdown",
   "metadata": {},
   "source": [
    "### ベクトルを変換する\n",
    "- 以下の行列を $\\vec{a}$ に掛けることで変換が可能。\n",
    "\n",
    "$$A = \n",
    "\\begin{pmatrix}\n",
    "2 & -1 \\\\\n",
    "2 & -2 \\\\\n",
    "\\end{pmatrix} $$\n",
    "\n",
    "$\\vec{b} = A\\vec{a} = \n",
    "\\begin{pmatrix}\n",
    "2 & -1\\\\\n",
    "2 & -2\\\\\n",
    "\\end{pmatrix}\n",
    "\\begin{pmatrix}\n",
    "2 \\\\\n",
    "3 \\\\\n",
    "\\end{pmatrix} \n",
    "=\\begin{pmatrix}\n",
    " 1 \\\\\n",
    "-2 \\\\\n",
    "\\end{pmatrix}$\n",
    "\n"
   ]
  },
  {
   "cell_type": "code",
   "execution_count": 6,
   "metadata": {},
   "outputs": [
    {
     "name": "stdout",
     "output_type": "stream",
     "text": [
      "a: [2 3]\n",
      "e_x: [1 0]\n",
      "e_y: [0 1]\n"
     ]
    },
    {
     "data": {
      "image/png": "[encoded data removed]",
      "text/plain": [
       "<Figure size 432x288 with 1 Axes>"
      ]
     },
     "metadata": {
      "needs_background": "light"
     },
     "output_type": "display_data"
    }
   ],
   "source": [
    "import numpy as np\n",
    "import matplotlib.pyplot as plt\n",
    "\n",
    "a = np.array([2,3])\n",
    "e_x = np.array([1,0])#xの標準基底\n",
    "e_y = np.array([0,1])#yの標準基底\n",
    "\n",
    "print(\"a:\",a)\n",
    "print(\"e_x:\",e_x)\n",
    "print(\"e_y:\",e_y)\n",
    "\n",
    "def arrow(start,size,color):\n",
    "    plt.quiver(start[0],start[1],size[0],size[1],\n",
    "              angles=\"xy\",scale_units=\"xy\",scale=1)\n",
    "    \n",
    "s = np.array([0,0])#原点\n",
    "\n",
    "arrow(s,a,color=\"blue\")\n",
    "arrow(s,e_x,color=\"black\")\n",
    "arrow(s,e_y,color=\"black\")\n",
    "\n",
    "#グラフ表示\n",
    "plt.xlim([-3,3])\n",
    "plt.ylim([-3,3])#表示ファイル\n",
    "plt.xlabel(\"x\",size=14)\n",
    "plt.ylabel(\"y\",size=14)\n",
    "plt.grid()\n",
    "plt.show()"
   ]
  },
  {
   "cell_type": "code",
   "execution_count": 12,
   "metadata": {},
   "outputs": [
    {
     "name": "stdout",
     "output_type": "stream",
     "text": [
      "固有値は [2. 5.]\n",
      "で、固有ベクトルは [[-0.70710678 -0.4472136 ]\n",
      " [ 0.70710678 -0.89442719]] となる\n"
     ]
    }
   ],
   "source": [
    "#固有値と固有ベクトルの計算\n",
    "import numpy as np\n",
    "a = np.array([[3,1],\n",
    "             [2,4]])\n",
    "\n",
    "ev = np.linalg.eig(a)\n",
    "\n",
    "print(\"固有値は\",ev[0])\n",
    "print(\"で、固有ベクトルは\",ev[1],\"となる\")"
   ]
  },
  {
   "cell_type": "markdown",
   "metadata": {},
   "source": [
    "### cos類似度はのちに"
   ]
  },
  {
   "cell_type": "code",
   "execution_count": null,
   "metadata": {},
   "outputs": [],
   "source": []
  }
 ],
 "metadata": {
  "kernelspec": {
   "display_name": "Python 3",
   "language": "python",
   "name": "python3"
  },
  "language_info": {
   "codemirror_mode": {
    "name": "ipython",
    "version": 3
   },
   "file_extension": ".py",
   "mimetype": "text/x-python",
   "name": "python",
   "nbconvert_exporter": "python",
   "pygments_lexer": "ipython3",
   "version": "3.7.4"
  }
 },
 "nbformat": 4,
 "nbformat_minor": 2
}
