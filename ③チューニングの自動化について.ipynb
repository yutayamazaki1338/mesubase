{
 "cells": [
  {
   "cell_type": "markdown",
   "metadata": {},
   "source": [
    "# チューニングの自動化\n",
    "- 前項で最適なパラメータを求めたことから、それらを自動的にやってくれる便利機能についてのまとめ。\n",
    "- 主に二種類を今回は紹介\n",
    "### グリッドサーチ\n",
    "- 調整したいハイパーパラメータを複数指定して、最適解を探してくれる。\n",
    "- 文字、整数、Ture、Falseなどの値をとるパラメータに向いている。\n",
    "- ただし、数の多いパラメータを一度にチューニングするのには不向き。\n",
    "- ※プログラム実行時間が長いから注意\n",
    "### ランダムサーチ\n",
    "- 値の候補をある程度範囲で指定し、それを確率的に探索しモデル評価を繰り返すことで最適解を探す。\n",
    "- 値の範囲の指定はパラメータの確立関数を指定する。今回はscipyの内部モジュールを使用"
   ]
  },
  {
   "cell_type": "code",
   "execution_count": 3,
   "metadata": {},
   "outputs": [
    {
     "name": "stdout",
     "output_type": "stream",
     "text": [
      "パラメータ:{'C': 10, 'degree': 1, 'gamma': 0.5555102040816327, 'kernel': 'poly'}\n"
     ]
    }
   ],
   "source": [
    "#グリッドサーチ\n",
    "\n",
    "### ライブラリのインポート\n",
    "import scipy.stats\n",
    "import numpy as np\n",
    "import pandas as pd\n",
    "from sklearn.datasets import load_iris\n",
    "from sklearn.svm import SVC\n",
    "from sklearn.model_selection import GridSearchCV, train_test_split\n",
    "from sklearn.metrics import confusion_matrix\n",
    "\n",
    "### 探索するパラメータ空間\n",
    "def param():\n",
    "    ret = {\n",
    "        'C':[1, 10, 100],\n",
    "        'kernel':['rbf', 'linear', 'poly'],\n",
    "        'degree':np.arange(1, 6, 1),\n",
    "        'gamma':np.linspace(0.01, 1.0, 50)\n",
    "    }\n",
    "    return ret\n",
    "\n",
    "if __name__ == '__main__':\n",
    "  # データの準備\n",
    "    x = load_iris().data\n",
    "    y = load_iris().target\n",
    "\n",
    "  # 25%分のデータを除けておく\n",
    "    x_train, x_test, y_train, y_test = train_test_split(x, y, test_size=0.25)\n",
    "\n",
    "  # GridSearchCVのインスタンスを作成&学習&スコア記録\n",
    "    gscv = GridSearchCV(SVC(), param(), cv=4, verbose=0,iid=False)#verboseは0で何もなし、1,2で進捗が見える。\n",
    "    gscv.fit(x_train, y_train)\n",
    "\n",
    "    best_param = gscv.best_params_\n",
    "    print(\"パラメータ:{}\".format(best_param))\n",
    "    "
   ]
  },
  {
   "cell_type": "code",
   "execution_count": 5,
   "metadata": {},
   "outputs": [
    {
     "name": "stdout",
     "output_type": "stream",
     "text": [
      "(1797, 64)\n"
     ]
    },
    {
     "data": {
      "text/plain": [
       "<Figure size 432x288 with 0 Axes>"
      ]
     },
     "metadata": {},
     "output_type": "display_data"
    },
    {
     "data": {
      "image/png": "[encoded data removed]",
      "text/plain": [
       "<Figure size 288x288 with 1 Axes>"
      ]
     },
     "metadata": {
      "needs_background": "light"
     },
     "output_type": "display_data"
    }
   ],
   "source": [
    "#使用するデータの確認用\n",
    "import matplotlib.pyplot as plt\n",
    "from sklearn.datasets import load_digits\n",
    "digits = load_digits()\n",
    "print(digits.data.shape)\n",
    "plt.gray() \n",
    "plt.matshow(digits.images[0]) \n",
    "plt.show() "
   ]
  },
  {
   "cell_type": "code",
   "execution_count": 12,
   "metadata": {},
   "outputs": [
    {
     "name": "stdout",
     "output_type": "stream",
     "text": [
      "パラメータ:{'C': 0.0001, 'decision_function_shape': 'ovr', 'gamma': 'auto', 'kernel': 'poly', 'random_state': 42}\n",
      "ベストスコア 0.9888888888888889\n",
      "\n",
      "調整なし\n",
      "0.5222222222222223\n"
     ]
    }
   ],
   "source": [
    "import scipy.stats\n",
    "from sklearn.datasets import load_digits\n",
    "from sklearn.svm import SVC\n",
    "from sklearn.model_selection import GridSearchCV as GS\n",
    "from sklearn.model_selection import train_test_split\n",
    "from sklearn.metrics import f1_score\n",
    "\n",
    "data = load_digits()\n",
    "n_samples = len(digits.images)\n",
    "X = digits.images.reshape((n_samples, -1)) # 8x8の配列から64次元のベクトルに変換\n",
    "y = digits.target\n",
    "\n",
    "\n",
    "X = X.astype(\"float\")\n",
    "\n",
    "train_X, test_X, train_y, test_y = train_test_split(X, y, random_state=42)\n",
    "\n",
    "\n",
    "#パラメータのセッティング\n",
    "model_param_set_grid = {SVC(): {\n",
    "    \"gamma\":[\"auto\"],\n",
    "    \"kernel\": [\"linear\", \"poly\", \"rbf\", \"sigmoid\"],\n",
    "    \"C\": [10 ** i for i in range(-5, 5)],\n",
    "    \"decision_function_shape\":[\"ovr\", \"ovo\"],\n",
    "    \"random_state\":[42]}}\n",
    "\n",
    "max_score = 0\n",
    "best_param = None\n",
    "\n",
    "#グリッドサーチで探す\n",
    "for model, param in model_param_set_grid.items():\n",
    "    clf = GS(model, param, cv=5)\n",
    "    clf.fit(train_X, train_y)\n",
    "    pred_y = clf.predict(test_X)\n",
    "    score = f1_score(test_y, pred_y, average=\"micro\")\n",
    "    if max_score < score:\n",
    "        max_score = score\n",
    "        best_model = model.__class__.__name__\n",
    "        best_param = clf.best_params_\n",
    "print(\"パラメータ:{}\".format(best_param))\n",
    "print(\"ベストスコア\",max_score)\n",
    "svm = SVC(gamma=\"auto\")\n",
    "svm.fit(train_X, train_y)\n",
    "print()\n",
    "print(\"調整なし\")\n",
    "print(svm.score(test_X, test_y))"
   ]
  },
  {
   "cell_type": "code",
   "execution_count": 39,
   "metadata": {},
   "outputs": [
    {
     "name": "stdout",
     "output_type": "stream",
     "text": [
      "[[ 9  0  0]\n",
      " [ 0 11  1]\n",
      " [ 0  1 16]]\n",
      "SVC(C=1, cache_size=200, class_weight=None, coef0=0.0,\n",
      "  decision_function_shape='ovr', degree=1, gamma=0.7979591836734694,\n",
      "  kernel='poly', max_iter=-1, probability=False, random_state=None,\n",
      "  shrinking=True, tol=0.001, verbose=False)\n"
     ]
    }
   ],
   "source": [
    "### ライブラリのインポート\n",
    "import numpy as np\n",
    "import pandas as pd\n",
    "from sklearn.datasets import load_iris\n",
    "from sklearn.svm import SVC\n",
    "from sklearn.model_selection import GridSearchCV, train_test_split\n",
    "from sklearn.metrics import confusion_matrix\n",
    "\n",
    "### 探索するパラメータ空間\n",
    "def param():\n",
    "    ret = {\n",
    "        'C':[1, 10, 100],\n",
    "        'kernel':['rbf', 'linear', 'poly'],\n",
    "        'degree':np.arange(1, 6, 1),\n",
    "        'gamma':np.linspace(0.01, 1.0, 50)\n",
    "    }\n",
    "    return ret\n",
    "\n",
    "if __name__ == '__main__':\n",
    "  # データの準備\n",
    "    x = load_iris().data\n",
    "    y = load_iris().target\n",
    "\n",
    "  # 25%分のデータを除けておく\n",
    "    x_train, x_test, y_train, y_test = train_test_split(x, y, test_size=0.25)\n",
    "\n",
    "  # GridSearchCVのインスタンスを作成&学習&スコア記録\n",
    "    gscv = GridSearchCV(SVC(), param(), cv=4, verbose=0,iid=False,return_train_score=True)#verboseは0で何もなし、1,2で進捗が見える。\n",
    "    gscv.fit(x_train, y_train)\n",
    "\n",
    "  # スコアの一覧を取得\n",
    "    gs_result = pd.DataFrame.from_dict(gscv.cv_results_)\n",
    "    gs_result.to_csv('gs_result.csv')\n",
    "\n",
    "  # 最高性能のモデルを取得し、テストデータを分類\n",
    "    best = gscv.best_estimator_\n",
    "    pred = best.predict(x_test)\n",
    "\n",
    "  # 混同行列を出力\n",
    "    print(confusion_matrix(y_test, pred))\n",
    "    print(best)"
   ]
  },
  {
   "cell_type": "code",
   "execution_count": 4,
   "metadata": {},
   "outputs": [],
   "source": [
    "#ランダムサーチ\n",
    "import scipy.stats\n",
    "from sklearn.datasets import load_digits\n",
    "from sklearn.svm import SVC\n",
    "from sklearn.model_selection import RandomizedSearchCV as RSCV, train_test_split\n",
    "from sklearn.metrics import f1_score"
   ]
  },
  {
   "cell_type": "code",
   "execution_count": 6,
   "metadata": {},
   "outputs": [],
   "source": [
    "digits = load_digits()\n",
    "n_samples = len(digits.images)\n",
    "X = digits.images.reshape((n_samples, -1)) # 8x8の配列から64次元のベクトルに変換\n",
    "y = digits.target\n",
    "\n",
    "\n",
    "X = X.astype(\"float\")\n",
    "\n",
    "train_X, test_X, train_y, test_y = train_test_split(X, y, random_state=42)"
   ]
  },
  {
   "cell_type": "code",
   "execution_count": 9,
   "metadata": {},
   "outputs": [],
   "source": [
    "#パラメータの値の候補を設定\n",
    "model_param_set_random = {SVC():{\n",
    "    \"gamma\":[\"auto\"],\n",
    "    \"kernel\": [\"linear\", \"poly\", \"rbf\", \"sigmoid\"],\n",
    "    \"C\": scipy.stats.randint(0, 100),\n",
    "    \"decision_function_shape\": [\"ovr\", \"ovo\"],\n",
    "    \"random_state\": scipy.stats.randint(0, 100)\n",
    "}}"
   ]
  },
  {
   "cell_type": "code",
   "execution_count": 10,
   "metadata": {},
   "outputs": [],
   "source": [
    "max_score = 0\n",
    "best_param = None"
   ]
  },
  {
   "cell_type": "code",
   "execution_count": 11,
   "metadata": {},
   "outputs": [
    {
     "name": "stdout",
     "output_type": "stream",
     "text": [
      "パラメータ:{'C': 37, 'decision_function_shape': 'ovr', 'kernel': 'poly', 'random_state': 15}\n",
      "ベストスコア 0.9888888888888889\n",
      "\n",
      "調整なし\n",
      "0.5222222222222223\n"
     ]
    }
   ],
   "source": [
    "for model, param in model_param_set_random.items():\n",
    "    clf = RSCV(model, param)\n",
    "    clf.fit(train_X, train_y)\n",
    "    pred_y = clf.predict(test_X)\n",
    "    score = f1_score(test_y, pred_y, average=\"micro\")\n",
    "    if max_score < score:\n",
    "        max_score = score\n",
    "        best_model = model.__class__.__name__\n",
    "        best_param = clf.best_params_\n",
    "print(\"パラメータ:{}\".format(best_param))\n",
    "print(\"ベストスコア\",max_score)\n",
    "svm = SVC(gamma=\"auto\")\n",
    "svm.fit(train_X, train_y)\n",
    "print()\n",
    "print(\"調整なし\")\n",
    "print(svm.score(test_X, test_y))"
   ]
  },
  {
   "cell_type": "code",
   "execution_count": null,
   "metadata": {},
   "outputs": [],
   "source": []
  }
 ],
 "metadata": {
  "kernelspec": {
   "display_name": "Python 3",
   "language": "python",
   "name": "python3"
  },
  "language_info": {
   "codemirror_mode": {
    "name": "ipython",
    "version": 3
   },
   "file_extension": ".py",
   "mimetype": "text/x-python",
   "name": "python",
   "nbconvert_exporter": "python",
   "pygments_lexer": "ipython3",
   "version": "3.6.10"
  }
 },
 "nbformat": 4,
 "nbformat_minor": 2
}
