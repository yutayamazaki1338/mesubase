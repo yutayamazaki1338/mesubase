{
 "cells": [
  {
   "cell_type": "markdown",
   "metadata": {},
   "source": [
    "### α段階のモノ\n",
    "- いっぺんに動かして問題がないかをチェックするもの\n",
    "- 実験データを読み込んで半自動化できるかを試みる。"
   ]
  },
  {
   "cell_type": "code",
   "execution_count": 1,
   "metadata": {},
   "outputs": [
    {
     "name": "stdout",
     "output_type": "stream",
     "text": [
      "False 8403\n",
      "False 36105\n"
     ]
    }
   ],
   "source": [
    "import pandas as pd\n",
    "import numpy as np\n",
    "import matplotlib.pyplot as plt\n",
    "from sklearn.cluster import KMeans\n",
    "from pandas import DataFrame\n",
    "\n",
    "data = pd.read_excel(\".xlsx\",sheet_name=0,header = None)\n",
    "df0 = data.drop(data.index[0:6])\n",
    "df0_1 = df0.reset_index()\n",
    "del df0_1[\"index\"]\n",
    "df1 = df0_1.rename(columns={0:\"Range=\",1:\"10.000V\",2:\"1.59V\"})\n",
    "df1[\"トルク1\"] = df1[\"10.000V\"]*-25\n",
    "df1[\"トルク2\"] = df1[\"1.59V\"]*-41.522 - 12.253\n",
    "df1[\"トルク1\"].plot()\n",
    "\n",
    "t = [df1[\"トルク1\"][u]-df1[\"トルク1\"][u-1] for u in range(1,len(df1))]\n",
    "t.insert(0,0)\n",
    "df1[\"トルク1の増加率\"] = t\n",
    "\n",
    "df1_array = np.array([df1[\"トルク1\"].to_list(),df1[\"トルク1の増加率\"].to_list()])\n",
    "df1_array = df1_array.T\n",
    "result=KMeans(n_clusters=3).fit_predict(df1_array)\n",
    "df1[\"result\"] = result\n",
    "\n",
    "for d in range(0,len(df1)):\n",
    "    if df1[\"result\"][d] != 0:\n",
    "        break\n",
    "\n",
    "for e in range(d,len(df1)):\n",
    "    if df1[\"result\"][e] == 0:\n",
    "        break\n",
    "\n",
    "for f in range(e,len(df1)):\n",
    "    if df1[\"result\"][f] != 0:\n",
    "        break\n",
    "        \n",
    "df1[\"安静時平均\"] = df1[\"トルク1\"][0:d-1].mean() #安静時平均\n",
    "df1[\"max\"] = df1[\"トルク1\"][0:e].max()\n",
    "df1[\"トルク1\"][0:d-1]\n",
    "\n",
    "df1[\"MVC\"] = df1[\"max\"]  - df1[\"安静時平均\"] \n",
    "df1[\"MVC*0.02\"] = df1[\"MVC\"] * 0.02\n",
    "df1[\"offset\"] = df1[\"トルク1\"] - df1[\"安静時平均\"]\n",
    "\n",
    "i = 0\n",
    "while True:\n",
    "    if df1[\"MVC*0.02\"][i] > df1[\"offset\"][i]:\n",
    "        i +=1\n",
    "    else:\n",
    "        print(df1[\"MVC*0.02\"][i] > df1[\"offset\"][i],i)\n",
    "        break\n",
    "\n",
    "k = df1[\"offset\"][i+201] - df1[\"offset\"][i]\n",
    "\n",
    "df1[\"差\"] = k\n",
    "df1[\"RFD\"] = k/0.2\n",
    "\n",
    "df2 = df1[[\"トルク1\",\"トルク1の増加率\"]][e:]#と定義しなおす。\n",
    "df2[\"安静時平均\"] = df2[\"トルク1\"][:f-1-e].mean() #安静時平均\n",
    "df2[\"max\"] = df2[\"トルク1\"].max()\n",
    "df2[\"MVC\"] = df2[\"max\"]  - df2[\"安静時平均\"] \n",
    "df2[\"MVC*0.02\"] = df2[\"MVC\"] * 0.02\n",
    "df2[\"offset\"] = df2[\"トルク1\"] - df2[\"安静時平均\"]\n",
    "\n",
    "i = e+2000\n",
    "while True:\n",
    "    if df2[\"MVC*0.02\"][i] > df2[\"offset\"][i]:\n",
    "        i +=1\n",
    "    else:\n",
    "        print(df2[\"MVC*0.02\"][i] > df2[\"offset\"][i],i)\n",
    "        break\n",
    "\n",
    "k = df2[\"offset\"][i+201] - df2[\"offset\"][i]\n",
    "df2[\"差\"] = k\n",
    "df2[\"RFD\"] = k/0.2\n",
    "\n",
    "with pd.ExcelWriter('1kHzの解析.xlsx') as writer:\n",
    "    df1.to_excel(writer, sheet_name='一つ目の山')\n",
    "    df2.to_excel(writer, sheet_name='二つ目の山')"
   ]
  },
  {
   "cell_type": "code",
   "execution_count": null,
   "metadata": {},
   "outputs": [],
   "source": []
  }
 ],
 "metadata": {
  "kernelspec": {
   "display_name": "Python 3",
   "language": "python",
   "name": "python3"
  },
  "language_info": {
   "codemirror_mode": {
    "name": "ipython",
    "version": 3
   },
   "file_extension": ".py",
   "mimetype": "text/x-python",
   "name": "python",
   "nbconvert_exporter": "python",
   "pygments_lexer": "ipython3",
   "version": "3.7.4"
  }
 },
 "nbformat": 4,
 "nbformat_minor": 2
}
